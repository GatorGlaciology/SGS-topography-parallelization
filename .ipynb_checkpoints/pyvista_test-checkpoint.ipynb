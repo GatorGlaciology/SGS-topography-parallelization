{
 "cells": [
  {
   "cell_type": "code",
   "execution_count": 2,
   "id": "01bc03ce",
   "metadata": {},
   "outputs": [
    {
     "name": "stdout",
     "output_type": "stream",
     "text": [
      "Collecting pyvista\n",
      "  Downloading pyvista-0.37.0-py3-none-any.whl (1.5 MB)\n",
      "\u001b[K     |████████████████████████████████| 1.5 MB 4.7 MB/s eta 0:00:01\n",
      "\u001b[?25hRequirement already satisfied: pillow in /Users/nathanschoedl/opt/miniconda3/lib/python3.9/site-packages (from pyvista) (9.2.0)\n",
      "Collecting pooch\n",
      "  Downloading pooch-1.6.0-py3-none-any.whl (56 kB)\n",
      "\u001b[K     |████████████████████████████████| 56 kB 32.9 MB/s eta 0:00:011\n",
      "\u001b[?25hCollecting vtk\n",
      "  Downloading vtk-9.2.5-cp39-cp39-macosx_11_0_arm64.whl (58.9 MB)\n",
      "\u001b[K     |████████████████████████████████| 58.9 MB 1.6 MB/s eta 0:00:011██▊                          | 10.6 MB 214 kB/s eta 0:03:46     |████████▋                       | 15.9 MB 1.3 MB/s eta 0:00:34\n",
      "\u001b[?25hCollecting scooby>=0.5.1\n",
      "  Downloading scooby-0.7.0-py3-none-any.whl (16 kB)\n",
      "Requirement already satisfied: imageio in /Users/nathanschoedl/opt/miniconda3/lib/python3.9/site-packages (from pyvista) (2.21.2)\n",
      "Requirement already satisfied: numpy in /Users/nathanschoedl/opt/miniconda3/lib/python3.9/site-packages (from pyvista) (1.23.3)\n",
      "Requirement already satisfied: packaging>=20.0 in /Users/nathanschoedl/opt/miniconda3/lib/python3.9/site-packages (from pooch->pyvista) (21.3)\n",
      "Collecting appdirs>=1.3.0\n",
      "  Downloading appdirs-1.4.4-py2.py3-none-any.whl (9.6 kB)\n",
      "Requirement already satisfied: requests>=2.19.0 in /Users/nathanschoedl/opt/miniconda3/lib/python3.9/site-packages (from pooch->pyvista) (2.27.1)\n",
      "Requirement already satisfied: pyparsing!=3.0.5,>=2.0.2 in /Users/nathanschoedl/opt/miniconda3/lib/python3.9/site-packages (from packaging>=20.0->pooch->pyvista) (3.0.9)\n",
      "Requirement already satisfied: charset-normalizer~=2.0.0 in /Users/nathanschoedl/opt/miniconda3/lib/python3.9/site-packages (from requests>=2.19.0->pooch->pyvista) (2.0.4)\n",
      "Requirement already satisfied: certifi>=2017.4.17 in /Users/nathanschoedl/opt/miniconda3/lib/python3.9/site-packages (from requests>=2.19.0->pooch->pyvista) (2022.5.18.1)\n",
      "Requirement already satisfied: idna<4,>=2.5 in /Users/nathanschoedl/opt/miniconda3/lib/python3.9/site-packages (from requests>=2.19.0->pooch->pyvista) (3.3)\n",
      "Requirement already satisfied: urllib3<1.27,>=1.21.1 in /Users/nathanschoedl/opt/miniconda3/lib/python3.9/site-packages (from requests>=2.19.0->pooch->pyvista) (1.26.9)\n",
      "Requirement already satisfied: matplotlib>=2.0.0 in /Users/nathanschoedl/opt/miniconda3/lib/python3.9/site-packages (from vtk->pyvista) (3.5.3)\n",
      "Requirement already satisfied: fonttools>=4.22.0 in /Users/nathanschoedl/opt/miniconda3/lib/python3.9/site-packages (from matplotlib>=2.0.0->vtk->pyvista) (4.37.1)\n",
      "Requirement already satisfied: kiwisolver>=1.0.1 in /Users/nathanschoedl/opt/miniconda3/lib/python3.9/site-packages (from matplotlib>=2.0.0->vtk->pyvista) (1.4.4)\n",
      "Requirement already satisfied: python-dateutil>=2.7 in /Users/nathanschoedl/opt/miniconda3/lib/python3.9/site-packages (from matplotlib>=2.0.0->vtk->pyvista) (2.8.2)\n",
      "Requirement already satisfied: cycler>=0.10 in /Users/nathanschoedl/opt/miniconda3/lib/python3.9/site-packages (from matplotlib>=2.0.0->vtk->pyvista) (0.11.0)\n",
      "Requirement already satisfied: six>=1.5 in /Users/nathanschoedl/opt/miniconda3/lib/python3.9/site-packages (from python-dateutil>=2.7->matplotlib>=2.0.0->vtk->pyvista) (1.16.0)\n",
      "Installing collected packages: appdirs, vtk, scooby, pooch, pyvista\n",
      "Successfully installed appdirs-1.4.4 pooch-1.6.0 pyvista-0.37.0 scooby-0.7.0 vtk-9.2.5\n"
     ]
    }
   ],
   "source": [
    "!pip install pyvista"
   ]
  },
  {
   "cell_type": "code",
   "execution_count": 4,
   "id": "4a64cd83",
   "metadata": {},
   "outputs": [
    {
     "ename": "ModuleNotFoundError",
     "evalue": "No module named 'pyvista'",
     "output_type": "error",
     "traceback": [
      "\u001b[0;31m---------------------------------------------------------------------------\u001b[0m",
      "\u001b[0;31mModuleNotFoundError\u001b[0m                       Traceback (most recent call last)",
      "Input \u001b[0;32mIn [4]\u001b[0m, in \u001b[0;36m<cell line: 2>\u001b[0;34m()\u001b[0m\n\u001b[1;32m      1\u001b[0m \u001b[38;5;28;01mimport\u001b[39;00m \u001b[38;5;21;01mnumpy\u001b[39;00m \u001b[38;5;28;01mas\u001b[39;00m \u001b[38;5;21;01mnp\u001b[39;00m\n\u001b[0;32m----> 2\u001b[0m \u001b[38;5;28;01mimport\u001b[39;00m \u001b[38;5;21;01mpyvista\u001b[39;00m \u001b[38;5;28;01mas\u001b[39;00m \u001b[38;5;21;01mpv\u001b[39;00m\n\u001b[1;32m      3\u001b[0m \u001b[38;5;28;01mimport\u001b[39;00m \u001b[38;5;21;01mpandas\u001b[39;00m \u001b[38;5;28;01mas\u001b[39;00m \u001b[38;5;21;01mpd\u001b[39;00m\n\u001b[1;32m      5\u001b[0m \u001b[38;5;28;01mfrom\u001b[39;00m \u001b[38;5;21;01mmatplotlib\u001b[39;00m\u001b[38;5;21;01m.\u001b[39;00m\u001b[38;5;21;01mcolors\u001b[39;00m \u001b[38;5;28;01mimport\u001b[39;00m ListedColormap\n",
      "\u001b[0;31mModuleNotFoundError\u001b[0m: No module named 'pyvista'"
     ]
    }
   ],
   "source": [
    "import numpy as np\n",
    "import pyvista as pv\n",
    "import pandas as pd\n",
    "\n",
    "from matplotlib.colors import ListedColormap\n",
    "import matplotlib.pyplot as plt\n",
    "\n",
    "boring_cmap = plt.cm.get_cmap(\"coolwarm\")"
   ]
  },
  {
   "cell_type": "code",
   "execution_count": 2,
   "id": "4c6e4eed",
   "metadata": {},
   "outputs": [],
   "source": [
    "data = pd.read_csv(\"Output/sim1.csv\")"
   ]
  },
  {
   "cell_type": "code",
   "execution_count": 3,
   "id": "02bce8e3",
   "metadata": {},
   "outputs": [
    {
     "data": {
      "text/html": [
       "<div>\n",
       "<style scoped>\n",
       "    .dataframe tbody tr th:only-of-type {\n",
       "        vertical-align: middle;\n",
       "    }\n",
       "\n",
       "    .dataframe tbody tr th {\n",
       "        vertical-align: top;\n",
       "    }\n",
       "\n",
       "    .dataframe thead th {\n",
       "        text-align: right;\n",
       "    }\n",
       "</style>\n",
       "<table border=\"1\" class=\"dataframe\">\n",
       "  <thead>\n",
       "    <tr style=\"text-align: right;\">\n",
       "      <th></th>\n",
       "      <th>X</th>\n",
       "      <th>Y</th>\n",
       "      <th>Bed</th>\n",
       "    </tr>\n",
       "  </thead>\n",
       "  <tbody>\n",
       "    <tr>\n",
       "      <th>0</th>\n",
       "      <td>-220370.0</td>\n",
       "      <td>-1650000.0</td>\n",
       "      <td>238.3100</td>\n",
       "    </tr>\n",
       "    <tr>\n",
       "      <th>1</th>\n",
       "      <td>-220370.0</td>\n",
       "      <td>-1650200.0</td>\n",
       "      <td>237.8400</td>\n",
       "    </tr>\n",
       "    <tr>\n",
       "      <th>2</th>\n",
       "      <td>-220370.0</td>\n",
       "      <td>-1650300.0</td>\n",
       "      <td>234.7000</td>\n",
       "    </tr>\n",
       "    <tr>\n",
       "      <th>3</th>\n",
       "      <td>-220370.0</td>\n",
       "      <td>-1650400.0</td>\n",
       "      <td>224.5500</td>\n",
       "    </tr>\n",
       "    <tr>\n",
       "      <th>4</th>\n",
       "      <td>-220370.0</td>\n",
       "      <td>-1650600.0</td>\n",
       "      <td>212.6900</td>\n",
       "    </tr>\n",
       "    <tr>\n",
       "      <th>...</th>\n",
       "      <td>...</td>\n",
       "      <td>...</td>\n",
       "      <td>...</td>\n",
       "    </tr>\n",
       "    <tr>\n",
       "      <th>488101</th>\n",
       "      <td>-299736.5</td>\n",
       "      <td>-1653253.0</td>\n",
       "      <td>941.3989</td>\n",
       "    </tr>\n",
       "    <tr>\n",
       "      <th>488102</th>\n",
       "      <td>-299820.1</td>\n",
       "      <td>-1653281.0</td>\n",
       "      <td>942.9348</td>\n",
       "    </tr>\n",
       "    <tr>\n",
       "      <th>488103</th>\n",
       "      <td>-299852.3</td>\n",
       "      <td>-1653292.0</td>\n",
       "      <td>942.6983</td>\n",
       "    </tr>\n",
       "    <tr>\n",
       "      <th>488104</th>\n",
       "      <td>-299922.9</td>\n",
       "      <td>-1653316.0</td>\n",
       "      <td>942.2304</td>\n",
       "    </tr>\n",
       "    <tr>\n",
       "      <th>488105</th>\n",
       "      <td>-299961.5</td>\n",
       "      <td>-1653329.0</td>\n",
       "      <td>942.1658</td>\n",
       "    </tr>\n",
       "  </tbody>\n",
       "</table>\n",
       "<p>488106 rows × 3 columns</p>\n",
       "</div>"
      ],
      "text/plain": [
       "               X          Y       Bed\n",
       "0      -220370.0 -1650000.0  238.3100\n",
       "1      -220370.0 -1650200.0  237.8400\n",
       "2      -220370.0 -1650300.0  234.7000\n",
       "3      -220370.0 -1650400.0  224.5500\n",
       "4      -220370.0 -1650600.0  212.6900\n",
       "...          ...        ...       ...\n",
       "488101 -299736.5 -1653253.0  941.3989\n",
       "488102 -299820.1 -1653281.0  942.9348\n",
       "488103 -299852.3 -1653292.0  942.6983\n",
       "488104 -299922.9 -1653316.0  942.2304\n",
       "488105 -299961.5 -1653329.0  942.1658\n",
       "\n",
       "[488106 rows x 3 columns]"
      ]
     },
     "execution_count": 3,
     "metadata": {},
     "output_type": "execute_result"
    }
   ],
   "source": [
    "data"
   ]
  },
  {
   "cell_type": "code",
   "execution_count": 4,
   "id": "ceedde3d",
   "metadata": {},
   "outputs": [],
   "source": [
    "plot = pv.PolyData(data.to_numpy())"
   ]
  },
  {
   "cell_type": "code",
   "execution_count": 5,
   "id": "4c4fbe00",
   "metadata": {
    "scrolled": true
   },
   "outputs": [
    {
     "data": {
      "text/html": [
       "\n",
       "<table>\n",
       "<tr><th>PolyData</th><th>Information</th></tr>\n",
       "<tr><td>N Cells</td><td>488106</td></tr>\n",
       "<tr><td>N Points</td><td>488106</td></tr>\n",
       "<tr><td>N Strips</td><td>0</td></tr>\n",
       "<tr><td>X Bounds</td><td>-3.000e+05, -1.500e+05</td></tr>\n",
       "<tr><td>Y Bounds</td><td>-1.800e+06, -1.650e+06</td></tr>\n",
       "<tr><td>Z Bounds</td><td>-7.178e+02, 1.000e+03</td></tr>\n",
       "<tr><td>N Arrays</td><td>0</td></tr>\n",
       "</table>\n",
       "\n"
      ],
      "text/plain": [
       "PolyData (0x23d1db3a880)\n",
       "  N Cells:\t488106\n",
       "  N Points:\t488106\n",
       "  N Strips:\t0\n",
       "  X Bounds:\t-3.000e+05, -1.500e+05\n",
       "  Y Bounds:\t-1.800e+06, -1.650e+06\n",
       "  Z Bounds:\t-7.178e+02, 1.000e+03\n",
       "  N Arrays:\t0"
      ]
     },
     "execution_count": 5,
     "metadata": {},
     "output_type": "execute_result"
    }
   ],
   "source": [
    "plot"
   ]
  },
  {
   "cell_type": "code",
   "execution_count": 6,
   "id": "ef36e5fc",
   "metadata": {
    "scrolled": false
   },
   "outputs": [
    {
     "data": {
      "application/vnd.jupyter.widget-view+json": {
       "model_id": "4056be0979c949e0bbd32331f8bdbaeb",
       "version_major": 2,
       "version_minor": 0
      },
      "text/plain": [
       "ViewInteractiveWidget(height=768, layout=Layout(height='auto', width='100%'), width=1024)"
      ]
     },
     "metadata": {},
     "output_type": "display_data"
    }
   ],
   "source": [
    "plot.plot(cmap=boring_cmap,show_edges=False)"
   ]
  },
  {
   "cell_type": "code",
   "execution_count": 7,
   "id": "96de3a04",
   "metadata": {},
   "outputs": [
    {
     "data": {
      "text/html": [
       "<div>\n",
       "<style scoped>\n",
       "    .dataframe tbody tr th:only-of-type {\n",
       "        vertical-align: middle;\n",
       "    }\n",
       "\n",
       "    .dataframe tbody tr th {\n",
       "        vertical-align: top;\n",
       "    }\n",
       "\n",
       "    .dataframe thead th {\n",
       "        text-align: right;\n",
       "    }\n",
       "</style>\n",
       "<table border=\"1\" class=\"dataframe\">\n",
       "  <thead>\n",
       "    <tr style=\"text-align: right;\">\n",
       "      <th></th>\n",
       "      <th>X</th>\n",
       "      <th>Y</th>\n",
       "      <th>Sum</th>\n",
       "      <th>Count</th>\n",
       "      <th>Bed</th>\n",
       "      <th>simulated</th>\n",
       "      <th>cluster</th>\n",
       "      <th>Norm_Bed</th>\n",
       "    </tr>\n",
       "  </thead>\n",
       "  <tbody>\n",
       "    <tr>\n",
       "      <th>0</th>\n",
       "      <td>-300000.0</td>\n",
       "      <td>-1800000.0</td>\n",
       "      <td>0.00</td>\n",
       "      <td>0.0</td>\n",
       "      <td>NaN</td>\n",
       "      <td>1.0</td>\n",
       "      <td>0.0</td>\n",
       "      <td>1.486189</td>\n",
       "    </tr>\n",
       "    <tr>\n",
       "      <th>1</th>\n",
       "      <td>-299000.0</td>\n",
       "      <td>-1800000.0</td>\n",
       "      <td>0.00</td>\n",
       "      <td>0.0</td>\n",
       "      <td>NaN</td>\n",
       "      <td>1.0</td>\n",
       "      <td>0.0</td>\n",
       "      <td>0.356395</td>\n",
       "    </tr>\n",
       "    <tr>\n",
       "      <th>2</th>\n",
       "      <td>-298000.0</td>\n",
       "      <td>-1800000.0</td>\n",
       "      <td>40895.47</td>\n",
       "      <td>128.0</td>\n",
       "      <td>319.49585</td>\n",
       "      <td>0.0</td>\n",
       "      <td>0.0</td>\n",
       "      <td>0.060628</td>\n",
       "    </tr>\n",
       "    <tr>\n",
       "      <th>3</th>\n",
       "      <td>-297000.0</td>\n",
       "      <td>-1800000.0</td>\n",
       "      <td>0.00</td>\n",
       "      <td>0.0</td>\n",
       "      <td>NaN</td>\n",
       "      <td>1.0</td>\n",
       "      <td>0.0</td>\n",
       "      <td>2.103903</td>\n",
       "    </tr>\n",
       "    <tr>\n",
       "      <th>4</th>\n",
       "      <td>-296000.0</td>\n",
       "      <td>-1800000.0</td>\n",
       "      <td>0.00</td>\n",
       "      <td>0.0</td>\n",
       "      <td>NaN</td>\n",
       "      <td>1.0</td>\n",
       "      <td>0.0</td>\n",
       "      <td>-0.010882</td>\n",
       "    </tr>\n",
       "    <tr>\n",
       "      <th>...</th>\n",
       "      <td>...</td>\n",
       "      <td>...</td>\n",
       "      <td>...</td>\n",
       "      <td>...</td>\n",
       "      <td>...</td>\n",
       "      <td>...</td>\n",
       "      <td>...</td>\n",
       "      <td>...</td>\n",
       "    </tr>\n",
       "    <tr>\n",
       "      <th>22495</th>\n",
       "      <td>-155000.0</td>\n",
       "      <td>-1651000.0</td>\n",
       "      <td>0.00</td>\n",
       "      <td>0.0</td>\n",
       "      <td>NaN</td>\n",
       "      <td>1.0</td>\n",
       "      <td>10.0</td>\n",
       "      <td>0.372548</td>\n",
       "    </tr>\n",
       "    <tr>\n",
       "      <th>22496</th>\n",
       "      <td>-154000.0</td>\n",
       "      <td>-1651000.0</td>\n",
       "      <td>0.00</td>\n",
       "      <td>0.0</td>\n",
       "      <td>NaN</td>\n",
       "      <td>1.0</td>\n",
       "      <td>10.0</td>\n",
       "      <td>0.059626</td>\n",
       "    </tr>\n",
       "    <tr>\n",
       "      <th>22497</th>\n",
       "      <td>-153000.0</td>\n",
       "      <td>-1651000.0</td>\n",
       "      <td>0.00</td>\n",
       "      <td>0.0</td>\n",
       "      <td>NaN</td>\n",
       "      <td>1.0</td>\n",
       "      <td>10.0</td>\n",
       "      <td>0.434393</td>\n",
       "    </tr>\n",
       "    <tr>\n",
       "      <th>22498</th>\n",
       "      <td>-152000.0</td>\n",
       "      <td>-1651000.0</td>\n",
       "      <td>0.00</td>\n",
       "      <td>0.0</td>\n",
       "      <td>NaN</td>\n",
       "      <td>1.0</td>\n",
       "      <td>10.0</td>\n",
       "      <td>0.836609</td>\n",
       "    </tr>\n",
       "    <tr>\n",
       "      <th>22499</th>\n",
       "      <td>-151000.0</td>\n",
       "      <td>-1651000.0</td>\n",
       "      <td>0.00</td>\n",
       "      <td>0.0</td>\n",
       "      <td>NaN</td>\n",
       "      <td>1.0</td>\n",
       "      <td>10.0</td>\n",
       "      <td>-0.217425</td>\n",
       "    </tr>\n",
       "  </tbody>\n",
       "</table>\n",
       "<p>22500 rows × 8 columns</p>\n",
       "</div>"
      ],
      "text/plain": [
       "              X          Y       Sum  Count        Bed  simulated  cluster  \\\n",
       "0     -300000.0 -1800000.0      0.00    0.0        NaN        1.0      0.0   \n",
       "1     -299000.0 -1800000.0      0.00    0.0        NaN        1.0      0.0   \n",
       "2     -298000.0 -1800000.0  40895.47  128.0  319.49585        0.0      0.0   \n",
       "3     -297000.0 -1800000.0      0.00    0.0        NaN        1.0      0.0   \n",
       "4     -296000.0 -1800000.0      0.00    0.0        NaN        1.0      0.0   \n",
       "...         ...        ...       ...    ...        ...        ...      ...   \n",
       "22495 -155000.0 -1651000.0      0.00    0.0        NaN        1.0     10.0   \n",
       "22496 -154000.0 -1651000.0      0.00    0.0        NaN        1.0     10.0   \n",
       "22497 -153000.0 -1651000.0      0.00    0.0        NaN        1.0     10.0   \n",
       "22498 -152000.0 -1651000.0      0.00    0.0        NaN        1.0     10.0   \n",
       "22499 -151000.0 -1651000.0      0.00    0.0        NaN        1.0     10.0   \n",
       "\n",
       "       Norm_Bed  \n",
       "0      1.486189  \n",
       "1      0.356395  \n",
       "2      0.060628  \n",
       "3      2.103903  \n",
       "4     -0.010882  \n",
       "...         ...  \n",
       "22495  0.372548  \n",
       "22496  0.059626  \n",
       "22497  0.434393  \n",
       "22498  0.836609  \n",
       "22499 -0.217425  \n",
       "\n",
       "[22500 rows x 8 columns]"
      ]
     },
     "execution_count": 7,
     "metadata": {},
     "output_type": "execute_result"
    }
   ],
   "source": [
    "simdata = pd.read_csv(\"sim_1.csv\")\n",
    "simdata"
   ]
  },
  {
   "cell_type": "code",
   "execution_count": 8,
   "id": "5017a9eb",
   "metadata": {},
   "outputs": [],
   "source": [
    "df2 = simdata[[\"X\",\"Y\",\"Norm_Bed\"]]"
   ]
  },
  {
   "cell_type": "code",
   "execution_count": 9,
   "id": "3477b608",
   "metadata": {},
   "outputs": [
    {
     "data": {
      "text/html": [
       "<div>\n",
       "<style scoped>\n",
       "    .dataframe tbody tr th:only-of-type {\n",
       "        vertical-align: middle;\n",
       "    }\n",
       "\n",
       "    .dataframe tbody tr th {\n",
       "        vertical-align: top;\n",
       "    }\n",
       "\n",
       "    .dataframe thead th {\n",
       "        text-align: right;\n",
       "    }\n",
       "</style>\n",
       "<table border=\"1\" class=\"dataframe\">\n",
       "  <thead>\n",
       "    <tr style=\"text-align: right;\">\n",
       "      <th></th>\n",
       "      <th>X</th>\n",
       "      <th>Y</th>\n",
       "      <th>Norm_Bed</th>\n",
       "    </tr>\n",
       "  </thead>\n",
       "  <tbody>\n",
       "    <tr>\n",
       "      <th>0</th>\n",
       "      <td>-300000.0</td>\n",
       "      <td>-1800000.0</td>\n",
       "      <td>1.486189</td>\n",
       "    </tr>\n",
       "    <tr>\n",
       "      <th>1</th>\n",
       "      <td>-299000.0</td>\n",
       "      <td>-1800000.0</td>\n",
       "      <td>0.356395</td>\n",
       "    </tr>\n",
       "    <tr>\n",
       "      <th>2</th>\n",
       "      <td>-298000.0</td>\n",
       "      <td>-1800000.0</td>\n",
       "      <td>0.060628</td>\n",
       "    </tr>\n",
       "    <tr>\n",
       "      <th>3</th>\n",
       "      <td>-297000.0</td>\n",
       "      <td>-1800000.0</td>\n",
       "      <td>2.103903</td>\n",
       "    </tr>\n",
       "    <tr>\n",
       "      <th>4</th>\n",
       "      <td>-296000.0</td>\n",
       "      <td>-1800000.0</td>\n",
       "      <td>-0.010882</td>\n",
       "    </tr>\n",
       "    <tr>\n",
       "      <th>...</th>\n",
       "      <td>...</td>\n",
       "      <td>...</td>\n",
       "      <td>...</td>\n",
       "    </tr>\n",
       "    <tr>\n",
       "      <th>22495</th>\n",
       "      <td>-155000.0</td>\n",
       "      <td>-1651000.0</td>\n",
       "      <td>0.372548</td>\n",
       "    </tr>\n",
       "    <tr>\n",
       "      <th>22496</th>\n",
       "      <td>-154000.0</td>\n",
       "      <td>-1651000.0</td>\n",
       "      <td>0.059626</td>\n",
       "    </tr>\n",
       "    <tr>\n",
       "      <th>22497</th>\n",
       "      <td>-153000.0</td>\n",
       "      <td>-1651000.0</td>\n",
       "      <td>0.434393</td>\n",
       "    </tr>\n",
       "    <tr>\n",
       "      <th>22498</th>\n",
       "      <td>-152000.0</td>\n",
       "      <td>-1651000.0</td>\n",
       "      <td>0.836609</td>\n",
       "    </tr>\n",
       "    <tr>\n",
       "      <th>22499</th>\n",
       "      <td>-151000.0</td>\n",
       "      <td>-1651000.0</td>\n",
       "      <td>-0.217425</td>\n",
       "    </tr>\n",
       "  </tbody>\n",
       "</table>\n",
       "<p>22500 rows × 3 columns</p>\n",
       "</div>"
      ],
      "text/plain": [
       "              X          Y  Norm_Bed\n",
       "0     -300000.0 -1800000.0  1.486189\n",
       "1     -299000.0 -1800000.0  0.356395\n",
       "2     -298000.0 -1800000.0  0.060628\n",
       "3     -297000.0 -1800000.0  2.103903\n",
       "4     -296000.0 -1800000.0 -0.010882\n",
       "...         ...        ...       ...\n",
       "22495 -155000.0 -1651000.0  0.372548\n",
       "22496 -154000.0 -1651000.0  0.059626\n",
       "22497 -153000.0 -1651000.0  0.434393\n",
       "22498 -152000.0 -1651000.0  0.836609\n",
       "22499 -151000.0 -1651000.0 -0.217425\n",
       "\n",
       "[22500 rows x 3 columns]"
      ]
     },
     "execution_count": 9,
     "metadata": {},
     "output_type": "execute_result"
    }
   ],
   "source": [
    "df2"
   ]
  },
  {
   "cell_type": "code",
   "execution_count": 10,
   "id": "1a70ea76",
   "metadata": {},
   "outputs": [],
   "source": [
    "plot2 = pv.PolyData(df2.to_numpy())"
   ]
  },
  {
   "cell_type": "code",
   "execution_count": 11,
   "id": "dbec74fc",
   "metadata": {},
   "outputs": [],
   "source": [
    "surf2 = plot2.delaunay_2d()"
   ]
  },
  {
   "cell_type": "code",
   "execution_count": 12,
   "id": "607bdd96",
   "metadata": {},
   "outputs": [],
   "source": [
    "plot2.point_data[\"Elevation\"] = df2.Norm_Bed"
   ]
  },
  {
   "cell_type": "code",
   "execution_count": 13,
   "id": "02fa7062",
   "metadata": {
    "scrolled": false
   },
   "outputs": [
    {
     "data": {
      "application/vnd.jupyter.widget-view+json": {
       "model_id": "abf575563d974020b920586af3fb6b28",
       "version_major": 2,
       "version_minor": 0
      },
      "text/plain": [
       "ViewInteractiveWidget(height=768, layout=Layout(height='auto', width='100%'), width=1024)"
      ]
     },
     "metadata": {},
     "output_type": "display_data"
    }
   ],
   "source": [
    "plot2.plot(cmap = boring_cmap)"
   ]
  },
  {
   "cell_type": "code",
   "execution_count": 14,
   "id": "8e754000",
   "metadata": {},
   "outputs": [],
   "source": [
    "surf2 = plot2.delaunay_2d()"
   ]
  },
  {
   "cell_type": "code",
   "execution_count": 15,
   "id": "7096ffb7",
   "metadata": {
    "scrolled": false
   },
   "outputs": [
    {
     "data": {
      "application/vnd.jupyter.widget-view+json": {
       "model_id": "2168933022c24f2ca712715b3d3c92b1",
       "version_major": 2,
       "version_minor": 0
      },
      "text/plain": [
       "ViewInteractiveWidget(height=768, layout=Layout(height='auto', width='100%'), width=1024)"
      ]
     },
     "metadata": {},
     "output_type": "display_data"
    }
   ],
   "source": [
    "surf2.plot(cmap=boring_cmap)"
   ]
  },
  {
   "cell_type": "code",
   "execution_count": 16,
   "id": "d4156201",
   "metadata": {},
   "outputs": [],
   "source": [
    "#change factor to increase height warping for better visualization\n",
    "surf2_warped = surf2.warp_by_scalar(\"Elevation\",factor = 800)"
   ]
  },
  {
   "cell_type": "code",
   "execution_count": 17,
   "id": "ba152728",
   "metadata": {
    "scrolled": false
   },
   "outputs": [
    {
     "data": {
      "application/vnd.jupyter.widget-view+json": {
       "model_id": "b0a8b390b5d24fd9a94be3504cba2ac0",
       "version_major": 2,
       "version_minor": 0
      },
      "text/plain": [
       "ViewInteractiveWidget(height=768, layout=Layout(height='auto', width='100%'), width=1024)"
      ]
     },
     "metadata": {},
     "output_type": "display_data"
    }
   ],
   "source": [
    "surf2_warped.plot(cmap=boring_cmap)"
   ]
  },
  {
   "cell_type": "code",
   "execution_count": null,
   "id": "33bd7315",
   "metadata": {},
   "outputs": [],
   "source": []
  }
 ],
 "metadata": {
  "kernelspec": {
   "display_name": "Python 3 (ipykernel)",
   "language": "python",
   "name": "python3"
  },
  "language_info": {
   "codemirror_mode": {
    "name": "ipython",
    "version": 3
   },
   "file_extension": ".py",
   "mimetype": "text/x-python",
   "name": "python",
   "nbconvert_exporter": "python",
   "pygments_lexer": "ipython3",
   "version": "3.9.12"
  }
 },
 "nbformat": 4,
 "nbformat_minor": 5
}
