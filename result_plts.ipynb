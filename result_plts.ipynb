{
 "cells": [
  {
   "cell_type": "code",
   "execution_count": 65,
   "id": "3854d32f",
   "metadata": {},
   "outputs": [],
   "source": [
    "import pandas as pd\n",
    "import numpy as np\n",
    "import matplotlib.pyplot as plt\n",
    "from matplotlib.pyplot import figure\n",
    "import matplotlib.gridspec as gridspec"
   ]
  },
  {
   "cell_type": "code",
   "execution_count": 66,
   "id": "bd273ac0",
   "metadata": {},
   "outputs": [],
   "source": [
    "res = pd.read_csv('Test/res_200_2000.csv')"
   ]
  },
  {
   "cell_type": "code",
   "execution_count": 67,
   "id": "38905d2e",
   "metadata": {},
   "outputs": [
    {
     "data": {
      "text/html": [
       "<div>\n",
       "<style scoped>\n",
       "    .dataframe tbody tr th:only-of-type {\n",
       "        vertical-align: middle;\n",
       "    }\n",
       "\n",
       "    .dataframe tbody tr th {\n",
       "        vertical-align: top;\n",
       "    }\n",
       "\n",
       "    .dataframe thead th {\n",
       "        text-align: right;\n",
       "    }\n",
       "</style>\n",
       "<table border=\"1\" class=\"dataframe\">\n",
       "  <thead>\n",
       "    <tr style=\"text-align: right;\">\n",
       "      <th></th>\n",
       "      <th>res</th>\n",
       "      <th>num missing pts</th>\n",
       "      <th>tot time</th>\n",
       "      <th>sgs time</th>\n",
       "      <th>execution</th>\n",
       "    </tr>\n",
       "  </thead>\n",
       "  <tbody>\n",
       "    <tr>\n",
       "      <th>0</th>\n",
       "      <td>2000</td>\n",
       "      <td>3965</td>\n",
       "      <td>8.961487</td>\n",
       "      <td>7.656171</td>\n",
       "      <td>Parallel</td>\n",
       "    </tr>\n",
       "    <tr>\n",
       "      <th>1</th>\n",
       "      <td>2000</td>\n",
       "      <td>3965</td>\n",
       "      <td>33.033014</td>\n",
       "      <td>31.794206</td>\n",
       "      <td>Sequential</td>\n",
       "    </tr>\n",
       "    <tr>\n",
       "      <th>2</th>\n",
       "      <td>1500</td>\n",
       "      <td>7717</td>\n",
       "      <td>12.158941</td>\n",
       "      <td>10.863337</td>\n",
       "      <td>Parallel</td>\n",
       "    </tr>\n",
       "    <tr>\n",
       "      <th>3</th>\n",
       "      <td>1500</td>\n",
       "      <td>7717</td>\n",
       "      <td>65.273389</td>\n",
       "      <td>64.028048</td>\n",
       "      <td>Sequential</td>\n",
       "    </tr>\n",
       "    <tr>\n",
       "      <th>4</th>\n",
       "      <td>1000</td>\n",
       "      <td>18850</td>\n",
       "      <td>21.587403</td>\n",
       "      <td>20.279594</td>\n",
       "      <td>Parallel</td>\n",
       "    </tr>\n",
       "    <tr>\n",
       "      <th>5</th>\n",
       "      <td>1000</td>\n",
       "      <td>18850</td>\n",
       "      <td>173.913594</td>\n",
       "      <td>172.641937</td>\n",
       "      <td>Sequential</td>\n",
       "    </tr>\n",
       "    <tr>\n",
       "      <th>6</th>\n",
       "      <td>900</td>\n",
       "      <td>23741</td>\n",
       "      <td>26.278240</td>\n",
       "      <td>24.955814</td>\n",
       "      <td>Parallel</td>\n",
       "    </tr>\n",
       "    <tr>\n",
       "      <th>7</th>\n",
       "      <td>900</td>\n",
       "      <td>23741</td>\n",
       "      <td>227.116828</td>\n",
       "      <td>225.835826</td>\n",
       "      <td>Sequential</td>\n",
       "    </tr>\n",
       "    <tr>\n",
       "      <th>8</th>\n",
       "      <td>800</td>\n",
       "      <td>30586</td>\n",
       "      <td>33.132499</td>\n",
       "      <td>31.808040</td>\n",
       "      <td>Parallel</td>\n",
       "    </tr>\n",
       "    <tr>\n",
       "      <th>9</th>\n",
       "      <td>800</td>\n",
       "      <td>30586</td>\n",
       "      <td>310.787625</td>\n",
       "      <td>309.525870</td>\n",
       "      <td>Sequential</td>\n",
       "    </tr>\n",
       "    <tr>\n",
       "      <th>10</th>\n",
       "      <td>700</td>\n",
       "      <td>40771</td>\n",
       "      <td>43.675635</td>\n",
       "      <td>42.364090</td>\n",
       "      <td>Parallel</td>\n",
       "    </tr>\n",
       "    <tr>\n",
       "      <th>11</th>\n",
       "      <td>700</td>\n",
       "      <td>40771</td>\n",
       "      <td>431.515945</td>\n",
       "      <td>430.213495</td>\n",
       "      <td>Sequential</td>\n",
       "    </tr>\n",
       "    <tr>\n",
       "      <th>12</th>\n",
       "      <td>600</td>\n",
       "      <td>56092</td>\n",
       "      <td>61.834292</td>\n",
       "      <td>60.502449</td>\n",
       "      <td>Parallel</td>\n",
       "    </tr>\n",
       "    <tr>\n",
       "      <th>13</th>\n",
       "      <td>600</td>\n",
       "      <td>56092</td>\n",
       "      <td>650.165713</td>\n",
       "      <td>648.913990</td>\n",
       "      <td>Sequential</td>\n",
       "    </tr>\n",
       "    <tr>\n",
       "      <th>14</th>\n",
       "      <td>500</td>\n",
       "      <td>82185</td>\n",
       "      <td>95.411256</td>\n",
       "      <td>94.072939</td>\n",
       "      <td>Parallel</td>\n",
       "    </tr>\n",
       "    <tr>\n",
       "      <th>15</th>\n",
       "      <td>500</td>\n",
       "      <td>82185</td>\n",
       "      <td>1079.721814</td>\n",
       "      <td>1078.451246</td>\n",
       "      <td>Sequential</td>\n",
       "    </tr>\n",
       "    <tr>\n",
       "      <th>16</th>\n",
       "      <td>400</td>\n",
       "      <td>130656</td>\n",
       "      <td>178.254581</td>\n",
       "      <td>176.938690</td>\n",
       "      <td>Parallel</td>\n",
       "    </tr>\n",
       "    <tr>\n",
       "      <th>17</th>\n",
       "      <td>400</td>\n",
       "      <td>130656</td>\n",
       "      <td>2121.524247</td>\n",
       "      <td>2120.168196</td>\n",
       "      <td>Sequential</td>\n",
       "    </tr>\n",
       "    <tr>\n",
       "      <th>18</th>\n",
       "      <td>300</td>\n",
       "      <td>236296</td>\n",
       "      <td>426.502756</td>\n",
       "      <td>425.155273</td>\n",
       "      <td>Parallel</td>\n",
       "    </tr>\n",
       "    <tr>\n",
       "      <th>19</th>\n",
       "      <td>300</td>\n",
       "      <td>236296</td>\n",
       "      <td>5461.162993</td>\n",
       "      <td>5459.734452</td>\n",
       "      <td>Sequential</td>\n",
       "    </tr>\n",
       "    <tr>\n",
       "      <th>20</th>\n",
       "      <td>200</td>\n",
       "      <td>541404</td>\n",
       "      <td>1690.608071</td>\n",
       "      <td>1689.238586</td>\n",
       "      <td>Parallel</td>\n",
       "    </tr>\n",
       "    <tr>\n",
       "      <th>21</th>\n",
       "      <td>200</td>\n",
       "      <td>541404</td>\n",
       "      <td>22904.565564</td>\n",
       "      <td>22902.906130</td>\n",
       "      <td>Sequential</td>\n",
       "    </tr>\n",
       "  </tbody>\n",
       "</table>\n",
       "</div>"
      ],
      "text/plain": [
       "     res  num missing pts      tot time      sgs time   execution\n",
       "0   2000             3965      8.961487      7.656171    Parallel\n",
       "1   2000             3965     33.033014     31.794206  Sequential\n",
       "2   1500             7717     12.158941     10.863337    Parallel\n",
       "3   1500             7717     65.273389     64.028048  Sequential\n",
       "4   1000            18850     21.587403     20.279594    Parallel\n",
       "5   1000            18850    173.913594    172.641937  Sequential\n",
       "6    900            23741     26.278240     24.955814    Parallel\n",
       "7    900            23741    227.116828    225.835826  Sequential\n",
       "8    800            30586     33.132499     31.808040    Parallel\n",
       "9    800            30586    310.787625    309.525870  Sequential\n",
       "10   700            40771     43.675635     42.364090    Parallel\n",
       "11   700            40771    431.515945    430.213495  Sequential\n",
       "12   600            56092     61.834292     60.502449    Parallel\n",
       "13   600            56092    650.165713    648.913990  Sequential\n",
       "14   500            82185     95.411256     94.072939    Parallel\n",
       "15   500            82185   1079.721814   1078.451246  Sequential\n",
       "16   400           130656    178.254581    176.938690    Parallel\n",
       "17   400           130656   2121.524247   2120.168196  Sequential\n",
       "18   300           236296    426.502756    425.155273    Parallel\n",
       "19   300           236296   5461.162993   5459.734452  Sequential\n",
       "20   200           541404   1690.608071   1689.238586    Parallel\n",
       "21   200           541404  22904.565564  22902.906130  Sequential"
      ]
     },
     "execution_count": 67,
     "metadata": {},
     "output_type": "execute_result"
    }
   ],
   "source": [
    "res"
   ]
  },
  {
   "cell_type": "code",
   "execution_count": 68,
   "id": "f4bde575",
   "metadata": {},
   "outputs": [],
   "source": [
    "res_s_t = res[res.execution == 'Sequential']['tot time'].to_numpy()\n",
    "res_p_t = res[res.execution == 'Parallel']['tot time'].to_numpy()\n",
    "num_pts = res[res.execution == 'Sequential']['num missing pts']"
   ]
  },
  {
   "cell_type": "code",
   "execution_count": 69,
   "id": "b397a420",
   "metadata": {},
   "outputs": [
    {
     "data": {
      "text/plain": [
       "array([0.14565841, 0.10655566, 0.06058204, 0.050324  , 0.03997462,\n",
       "       0.03002922, 0.0215389 , 0.01402682, 0.00738209, 0.00315938,\n",
       "       0.00081005])"
      ]
     },
     "execution_count": 69,
     "metadata": {},
     "output_type": "execute_result"
    }
   ],
   "source": [
    "res_p_s = res[res.execution == 'Parallel']['sgs time'].to_numpy()\n",
    "res_s_s = res[res.execution == 'Sequential']['sgs time'].to_numpy()\n",
    "\n",
    "overhead = (res_p_t - res_p_s)/ res_p_t\n",
    "overhead"
   ]
  },
  {
   "cell_type": "code",
   "execution_count": 70,
   "id": "429d52cd",
   "metadata": {},
   "outputs": [
    {
     "data": {
      "text/plain": [
       "array([ 3.68610852,  5.36834499,  8.05625371,  8.64277167,  9.3801444 ,\n",
       "        9.88001534, 10.51464637, 11.31650353, 11.90165344, 12.80451982,\n",
       "       13.54812269])"
      ]
     },
     "execution_count": 70,
     "metadata": {},
     "output_type": "execute_result"
    }
   ],
   "source": [
    "res_s_t/res_p_t"
   ]
  },
  {
   "cell_type": "code",
   "execution_count": 71,
   "id": "e1b45cf0",
   "metadata": {},
   "outputs": [
    {
     "data": {
      "text/plain": [
       "[<matplotlib.lines.Line2D at 0x1224772b0>]"
      ]
     },
     "execution_count": 71,
     "metadata": {},
     "output_type": "execute_result"
    },
    {
     "data": {
      "image/png": "[encoded data removed]",
      "text/plain": [
       "<Figure size 432x288 with 1 Axes>"
      ]
     },
     "metadata": {
      "needs_background": "light"
     },
     "output_type": "display_data"
    }
   ],
   "source": [
    "plt.plot(num_pts, res_s_s/res_p_s, label ='overhead', marker='o', markerfacecolor='black', color = 'black')"
   ]
  },
  {
   "cell_type": "code",
   "execution_count": 72,
   "id": "a2314a53",
   "metadata": {},
   "outputs": [],
   "source": [
    "p = pd.read_csv('Test/processes_1_16.csv')"
   ]
  },
  {
   "cell_type": "code",
   "execution_count": 73,
   "id": "81bb321b",
   "metadata": {},
   "outputs": [],
   "source": [
    "num_pts_p = [p[p.res == 1000]['num missing pts'][0], p[p.res == 500]['num missing pts'][10], p[p.res == 300]['num missing pts'][20]]\n",
    "p1 = [p[p.res == 1000]['tot time'][0]/3600, p[p.res == 500]['tot time'][10]/3600, p[p.res == 300]['tot time'][20]/3600]\n",
    "p8 = [p[p.res == 1000]['tot time'][7]/3600, p[p.res == 500]['tot time'][17]/3600, p[p.res == 300]['tot time'][27]/3600]"
   ]
  },
  {
   "cell_type": "code",
   "execution_count": 74,
   "id": "98f3ae56",
   "metadata": {},
   "outputs": [],
   "source": [
    "rows=(\"Resolution (m)\", \"Number of Simulated Points\", \"Serial Time (s)\", \"Parallel Time (s)\", \"Speed-up\")\n",
    "ress = res[res.execution == 'Sequential']['res'].to_numpy()\n",
    "pts = res[res.execution == 'Sequential']['num missing pts'].to_numpy()\n",
    "s_t = res[res.execution == 'Sequential']['sgs time'].to_numpy()\n",
    "p_t = res[res.execution == 'Parallel']['sgs time'].to_numpy()\n",
    "tbl_data = np.stack((ress, pts, s_t, p_t, s_t/p_t))"
   ]
  },
  {
   "cell_type": "code",
   "execution_count": 75,
   "id": "a07b91ea",
   "metadata": {},
   "outputs": [],
   "source": [
    "speedup = (res_s_t/res_p_t)"
   ]
  },
  {
   "cell_type": "code",
   "execution_count": 76,
   "id": "1a6e5ec0",
   "metadata": {},
   "outputs": [],
   "source": [
    "p18 = [p[p.res == 1000]['tot time'][0]/p[p.res == 1000]['tot time'][7], p[p.res == 500]['tot time'][10]/p[p.res == 500]['tot time'][17], p[p.res == 300]['tot time'][20]/p[p.res == 300]['tot time'][27]]"
   ]
  },
  {
   "cell_type": "code",
   "execution_count": 77,
   "id": "83ec7b92",
   "metadata": {},
   "outputs": [],
   "source": [
    "from matplotlib import transforms"
   ]
  },
  {
   "cell_type": "code",
   "execution_count": 80,
   "id": "c0c2f1ae",
   "metadata": {},
   "outputs": [
    {
     "data": {
      "image/png": "[encoded data removed]",
      "text/plain": [
       "<Figure size 540x720 with 2 Axes>"
      ]
     },
     "metadata": {
      "needs_background": "light"
     },
     "output_type": "display_data"
    }
   ],
   "source": [
    "gs = gridspec.GridSpec(2, 1)\n",
    "\n",
    "fig = plt.figure()\n",
    "fig.set_figwidth(7.5)\n",
    "fig.set_figheight(10)\n",
    "\n",
    "\n",
    "ax1 = plt.subplot(gs[0, 0])\n",
    "ax1.plot(num_pts, res_s_t/3600, label ='Serial', marker='o', markerfacecolor='black', color = 'black')\n",
    "ax1.plot(num_pts, res_p_t/3600, '-.', label ='Parallel', marker='^', markerfacecolor='black', color = 'black')\n",
    "\n",
    "#ax1.set_xlabel(\"Number of Simulated Points\")\n",
    "ax1.set_ylabel(\"SGS Run Time (hours)\", fontweight=\"bold\")\n",
    "ax1.set_title(\"Run Time vs Job Size\", fontweight=\"bold\")\n",
    "ax1.text(-0.07, 1.07, 'a)', transform=ax1.transAxes, fontsize=16, va='top', ha='right')\n",
    "ax1.legend()\n",
    "\n",
    "\n",
    "ax2 = plt.subplot(gs[1,0])\n",
    "ax2.plot(num_pts, speedup, label ='Serial', marker='^', markerfacecolor='black', color = 'black')\n",
    "\n",
    "ax2.set_xlabel(\"Number of Simulated Points\", fontweight=\"bold\")\n",
    "ax2.set_ylabel(\"Serial Time / Parllel Time\", fontweight=\"bold\")\n",
    "ax2.set_title(\"Speedup\", fontweight=\"bold\")\n",
    "ax2.text(-0.07, 1.07, 'b)', transform=ax2.transAxes, fontsize=16, va='top', ha='right')\n",
    "\n",
    "plt.savefig('Test/SpeedUp_Vertical.png', bbox_inches = 'tight')"
   ]
  },
  {
   "cell_type": "code",
   "execution_count": 81,
   "id": "335eb5b4",
   "metadata": {},
   "outputs": [],
   "source": [
    "p = pd.read_csv('Test/processes_1_16.csv')"
   ]
  },
  {
   "cell_type": "code",
   "execution_count": 82,
   "id": "e1da20b3",
   "metadata": {},
   "outputs": [
    {
     "data": {
      "text/html": [
       "<div>\n",
       "<style scoped>\n",
       "    .dataframe tbody tr th:only-of-type {\n",
       "        vertical-align: middle;\n",
       "    }\n",
       "\n",
       "    .dataframe tbody tr th {\n",
       "        vertical-align: top;\n",
       "    }\n",
       "\n",
       "    .dataframe thead th {\n",
       "        text-align: right;\n",
       "    }\n",
       "</style>\n",
       "<table border=\"1\" class=\"dataframe\">\n",
       "  <thead>\n",
       "    <tr style=\"text-align: right;\">\n",
       "      <th></th>\n",
       "      <th>proccesses</th>\n",
       "      <th>res</th>\n",
       "      <th>num missing pts</th>\n",
       "      <th>tot time</th>\n",
       "      <th>sgs time</th>\n",
       "    </tr>\n",
       "  </thead>\n",
       "  <tbody>\n",
       "    <tr>\n",
       "      <th>0</th>\n",
       "      <td>1</td>\n",
       "      <td>1000</td>\n",
       "      <td>18850</td>\n",
       "      <td>87.738530</td>\n",
       "      <td>86.413026</td>\n",
       "    </tr>\n",
       "    <tr>\n",
       "      <th>1</th>\n",
       "      <td>2</td>\n",
       "      <td>1000</td>\n",
       "      <td>18850</td>\n",
       "      <td>48.479527</td>\n",
       "      <td>47.173370</td>\n",
       "    </tr>\n",
       "    <tr>\n",
       "      <th>2</th>\n",
       "      <td>3</td>\n",
       "      <td>1000</td>\n",
       "      <td>18850</td>\n",
       "      <td>35.844310</td>\n",
       "      <td>34.512868</td>\n",
       "    </tr>\n",
       "    <tr>\n",
       "      <th>3</th>\n",
       "      <td>4</td>\n",
       "      <td>1000</td>\n",
       "      <td>18850</td>\n",
       "      <td>28.095610</td>\n",
       "      <td>26.769309</td>\n",
       "    </tr>\n",
       "    <tr>\n",
       "      <th>4</th>\n",
       "      <td>5</td>\n",
       "      <td>1000</td>\n",
       "      <td>18850</td>\n",
       "      <td>23.744754</td>\n",
       "      <td>22.403465</td>\n",
       "    </tr>\n",
       "    <tr>\n",
       "      <th>5</th>\n",
       "      <td>6</td>\n",
       "      <td>1000</td>\n",
       "      <td>18850</td>\n",
       "      <td>21.408829</td>\n",
       "      <td>20.071031</td>\n",
       "    </tr>\n",
       "    <tr>\n",
       "      <th>6</th>\n",
       "      <td>7</td>\n",
       "      <td>1000</td>\n",
       "      <td>18850</td>\n",
       "      <td>21.068227</td>\n",
       "      <td>19.738314</td>\n",
       "    </tr>\n",
       "    <tr>\n",
       "      <th>7</th>\n",
       "      <td>8</td>\n",
       "      <td>1000</td>\n",
       "      <td>18850</td>\n",
       "      <td>20.626357</td>\n",
       "      <td>19.310087</td>\n",
       "    </tr>\n",
       "    <tr>\n",
       "      <th>8</th>\n",
       "      <td>12</td>\n",
       "      <td>1000</td>\n",
       "      <td>18850</td>\n",
       "      <td>21.811849</td>\n",
       "      <td>20.485120</td>\n",
       "    </tr>\n",
       "    <tr>\n",
       "      <th>9</th>\n",
       "      <td>16</td>\n",
       "      <td>1000</td>\n",
       "      <td>18850</td>\n",
       "      <td>23.919658</td>\n",
       "      <td>22.611266</td>\n",
       "    </tr>\n",
       "    <tr>\n",
       "      <th>10</th>\n",
       "      <td>1</td>\n",
       "      <td>500</td>\n",
       "      <td>82185</td>\n",
       "      <td>471.242927</td>\n",
       "      <td>469.909203</td>\n",
       "    </tr>\n",
       "    <tr>\n",
       "      <th>11</th>\n",
       "      <td>2</td>\n",
       "      <td>500</td>\n",
       "      <td>82185</td>\n",
       "      <td>253.443150</td>\n",
       "      <td>252.129929</td>\n",
       "    </tr>\n",
       "    <tr>\n",
       "      <th>12</th>\n",
       "      <td>3</td>\n",
       "      <td>500</td>\n",
       "      <td>82185</td>\n",
       "      <td>173.330261</td>\n",
       "      <td>172.001487</td>\n",
       "    </tr>\n",
       "    <tr>\n",
       "      <th>13</th>\n",
       "      <td>4</td>\n",
       "      <td>500</td>\n",
       "      <td>82185</td>\n",
       "      <td>142.017979</td>\n",
       "      <td>140.676880</td>\n",
       "    </tr>\n",
       "    <tr>\n",
       "      <th>14</th>\n",
       "      <td>5</td>\n",
       "      <td>500</td>\n",
       "      <td>82185</td>\n",
       "      <td>116.594865</td>\n",
       "      <td>115.254119</td>\n",
       "    </tr>\n",
       "    <tr>\n",
       "      <th>15</th>\n",
       "      <td>6</td>\n",
       "      <td>500</td>\n",
       "      <td>82185</td>\n",
       "      <td>101.346265</td>\n",
       "      <td>100.009087</td>\n",
       "    </tr>\n",
       "    <tr>\n",
       "      <th>16</th>\n",
       "      <td>7</td>\n",
       "      <td>500</td>\n",
       "      <td>82185</td>\n",
       "      <td>99.311847</td>\n",
       "      <td>97.967208</td>\n",
       "    </tr>\n",
       "    <tr>\n",
       "      <th>17</th>\n",
       "      <td>8</td>\n",
       "      <td>500</td>\n",
       "      <td>82185</td>\n",
       "      <td>99.085082</td>\n",
       "      <td>97.750994</td>\n",
       "    </tr>\n",
       "    <tr>\n",
       "      <th>18</th>\n",
       "      <td>12</td>\n",
       "      <td>500</td>\n",
       "      <td>82185</td>\n",
       "      <td>101.554968</td>\n",
       "      <td>100.203006</td>\n",
       "    </tr>\n",
       "    <tr>\n",
       "      <th>19</th>\n",
       "      <td>16</td>\n",
       "      <td>500</td>\n",
       "      <td>82185</td>\n",
       "      <td>101.811005</td>\n",
       "      <td>100.475371</td>\n",
       "    </tr>\n",
       "    <tr>\n",
       "      <th>20</th>\n",
       "      <td>1</td>\n",
       "      <td>300</td>\n",
       "      <td>236296</td>\n",
       "      <td>2136.719596</td>\n",
       "      <td>2135.340253</td>\n",
       "    </tr>\n",
       "    <tr>\n",
       "      <th>21</th>\n",
       "      <td>2</td>\n",
       "      <td>300</td>\n",
       "      <td>236296</td>\n",
       "      <td>1181.921569</td>\n",
       "      <td>1180.564991</td>\n",
       "    </tr>\n",
       "    <tr>\n",
       "      <th>22</th>\n",
       "      <td>3</td>\n",
       "      <td>300</td>\n",
       "      <td>236296</td>\n",
       "      <td>873.649497</td>\n",
       "      <td>872.302645</td>\n",
       "    </tr>\n",
       "    <tr>\n",
       "      <th>23</th>\n",
       "      <td>4</td>\n",
       "      <td>300</td>\n",
       "      <td>236296</td>\n",
       "      <td>627.600106</td>\n",
       "      <td>626.233663</td>\n",
       "    </tr>\n",
       "    <tr>\n",
       "      <th>24</th>\n",
       "      <td>5</td>\n",
       "      <td>300</td>\n",
       "      <td>236296</td>\n",
       "      <td>525.517704</td>\n",
       "      <td>524.135164</td>\n",
       "    </tr>\n",
       "    <tr>\n",
       "      <th>25</th>\n",
       "      <td>6</td>\n",
       "      <td>300</td>\n",
       "      <td>236296</td>\n",
       "      <td>454.370906</td>\n",
       "      <td>453.004254</td>\n",
       "    </tr>\n",
       "    <tr>\n",
       "      <th>26</th>\n",
       "      <td>7</td>\n",
       "      <td>300</td>\n",
       "      <td>236296</td>\n",
       "      <td>442.786326</td>\n",
       "      <td>441.414715</td>\n",
       "    </tr>\n",
       "    <tr>\n",
       "      <th>27</th>\n",
       "      <td>8</td>\n",
       "      <td>300</td>\n",
       "      <td>236296</td>\n",
       "      <td>437.669540</td>\n",
       "      <td>436.255583</td>\n",
       "    </tr>\n",
       "    <tr>\n",
       "      <th>28</th>\n",
       "      <td>12</td>\n",
       "      <td>300</td>\n",
       "      <td>236296</td>\n",
       "      <td>436.450503</td>\n",
       "      <td>435.108240</td>\n",
       "    </tr>\n",
       "    <tr>\n",
       "      <th>29</th>\n",
       "      <td>16</td>\n",
       "      <td>300</td>\n",
       "      <td>236296</td>\n",
       "      <td>436.124360</td>\n",
       "      <td>434.728776</td>\n",
       "    </tr>\n",
       "  </tbody>\n",
       "</table>\n",
       "</div>"
      ],
      "text/plain": [
       "    proccesses   res  num missing pts     tot time     sgs time\n",
       "0            1  1000            18850    87.738530    86.413026\n",
       "1            2  1000            18850    48.479527    47.173370\n",
       "2            3  1000            18850    35.844310    34.512868\n",
       "3            4  1000            18850    28.095610    26.769309\n",
       "4            5  1000            18850    23.744754    22.403465\n",
       "5            6  1000            18850    21.408829    20.071031\n",
       "6            7  1000            18850    21.068227    19.738314\n",
       "7            8  1000            18850    20.626357    19.310087\n",
       "8           12  1000            18850    21.811849    20.485120\n",
       "9           16  1000            18850    23.919658    22.611266\n",
       "10           1   500            82185   471.242927   469.909203\n",
       "11           2   500            82185   253.443150   252.129929\n",
       "12           3   500            82185   173.330261   172.001487\n",
       "13           4   500            82185   142.017979   140.676880\n",
       "14           5   500            82185   116.594865   115.254119\n",
       "15           6   500            82185   101.346265   100.009087\n",
       "16           7   500            82185    99.311847    97.967208\n",
       "17           8   500            82185    99.085082    97.750994\n",
       "18          12   500            82185   101.554968   100.203006\n",
       "19          16   500            82185   101.811005   100.475371\n",
       "20           1   300           236296  2136.719596  2135.340253\n",
       "21           2   300           236296  1181.921569  1180.564991\n",
       "22           3   300           236296   873.649497   872.302645\n",
       "23           4   300           236296   627.600106   626.233663\n",
       "24           5   300           236296   525.517704   524.135164\n",
       "25           6   300           236296   454.370906   453.004254\n",
       "26           7   300           236296   442.786326   441.414715\n",
       "27           8   300           236296   437.669540   436.255583\n",
       "28          12   300           236296   436.450503   435.108240\n",
       "29          16   300           236296   436.124360   434.728776"
      ]
     },
     "execution_count": 82,
     "metadata": {},
     "output_type": "execute_result"
    }
   ],
   "source": [
    "p"
   ]
  },
  {
   "cell_type": "code",
   "execution_count": 83,
   "id": "46c43fbc",
   "metadata": {},
   "outputs": [],
   "source": [
    "num_proc = p[p.res == 1000]['proccesses'][:8]\n",
    "p_1000 = p[p.res == 1000]['tot time'][:8]\n",
    "p_500 = p[p.res == 500]['tot time'][:8]\n",
    "p_300 = p[p.res == 300]['tot time'][:8]\n",
    "\n",
    "p_1000_s = p[p.res == 1000]['sgs time'][:8]\n",
    "p_500_s = p[p.res == 500]['sgs time'][:8]\n",
    "p_300_s = p[p.res == 300]['sgs time'][:8]"
   ]
  },
  {
   "cell_type": "code",
   "execution_count": 84,
   "id": "26dfd400",
   "metadata": {},
   "outputs": [],
   "source": [
    "p_s_1000 = p_1000_s[0]/p_1000_s\n",
    "p_s_300 = p_300_s[20]/p_300_s"
   ]
  },
  {
   "cell_type": "code",
   "execution_count": 85,
   "id": "1526f3be",
   "metadata": {},
   "outputs": [],
   "source": [
    "p_1_1000 = p_1000[0]/p_1000\n",
    "p_1_500 = p_500[10]/p_500\n",
    "p_1_300 = p_300[20]/p_300"
   ]
  },
  {
   "cell_type": "code",
   "execution_count": 22,
   "id": "b8415124",
   "metadata": {},
   "outputs": [
    {
     "ename": "SyntaxError",
     "evalue": "invalid syntax (1241809341.py, line 5)",
     "output_type": "error",
     "traceback": [
      "\u001b[0;36m  Input \u001b[0;32mIn [22]\u001b[0;36m\u001b[0m\n\u001b[0;31m    sgs speedup / tot speed\u001b[0m\n\u001b[0m        ^\u001b[0m\n\u001b[0;31mSyntaxError\u001b[0m\u001b[0;31m:\u001b[0m invalid syntax\n"
     ]
    }
   ],
   "source": [
    "T_0_1000 = 8*p_1000[7] - p_1000[0]\n",
    "T_0_500 = 8*p_500[17] - p_500[10]\n",
    "T_0_300 = 8*p_300[27] - p_300[20]\n",
    "\n",
    "sgs speedup / tot speed \n",
    "\n",
    "as number of points increase -> less time performing serial -> \n",
    " -> "
   ]
  },
  {
   "cell_type": "code",
   "execution_count": 23,
   "id": "0d3222e3",
   "metadata": {},
   "outputs": [
    {
     "data": {
      "text/plain": [
       "1.0520276422112194"
      ]
     },
     "execution_count": 23,
     "metadata": {},
     "output_type": "execute_result"
    }
   ],
   "source": [
    "(p_1000_s[0]/p_1000_s[7])/(p_1000[0]/p_1000[7])"
   ]
  },
  {
   "cell_type": "code",
   "execution_count": 24,
   "id": "6d124b58",
   "metadata": {},
   "outputs": [
    {
     "data": {
      "text/plain": [
       "1.010778966260414"
      ]
     },
     "execution_count": 24,
     "metadata": {},
     "output_type": "execute_result"
    }
   ],
   "source": [
    "(p_500_s[10]/p_500_s[17])/(p_500[10]/p_500[17])"
   ]
  },
  {
   "cell_type": "code",
   "execution_count": 25,
   "id": "7afe3e6d",
   "metadata": {},
   "outputs": [
    {
     "data": {
      "text/plain": [
       "1.0025934863198793"
      ]
     },
     "execution_count": 25,
     "metadata": {},
     "output_type": "execute_result"
    }
   ],
   "source": [
    "(p_300_s[20]/p_300_s[27])/(p_300[20]/p_300[27])"
   ]
  },
  {
   "cell_type": "code",
   "execution_count": null,
   "id": "aee96527",
   "metadata": {},
   "outputs": [
    {
     "data": {
      "text/plain": [
       "0    1.000000\n",
       "1    1.831818\n",
       "2    2.503792\n",
       "3    3.228063\n",
       "4    3.857128\n",
       "5    4.305361\n",
       "6    4.377933\n",
       "7    4.475020\n",
       "Name: sgs time, dtype: float64"
      ]
     },
     "execution_count": 104,
     "metadata": {},
     "output_type": "execute_result"
    }
   ],
   "source": []
  },
  {
   "cell_type": "code",
   "execution_count": null,
   "id": "68dfc3ae",
   "metadata": {},
   "outputs": [
    {
     "data": {
      "text/plain": [
       "array([1.        , 1.80874435, 2.44793509, 3.40981391, 4.07402594,\n",
       "       4.71373113, 4.83749223, 4.89470012])"
      ]
     },
     "execution_count": 112,
     "metadata": {},
     "output_type": "execute_result"
    }
   ],
   "source": [
    "p_s_300.to_numpy()"
   ]
  },
  {
   "cell_type": "code",
   "execution_count": null,
   "id": "b85b1886",
   "metadata": {},
   "outputs": [
    {
     "data": {
      "text/plain": [
       "array([1.        , 1.83181795, 2.50379151, 3.22806337, 3.85712771,\n",
       "       4.30536062, 4.37793345, 4.47501997])"
      ]
     },
     "execution_count": 113,
     "metadata": {},
     "output_type": "execute_result"
    }
   ],
   "source": [
    "p_s_1000.to_numpy()"
   ]
  },
  {
   "cell_type": "code",
   "execution_count": null,
   "id": "1ac16e4f",
   "metadata": {},
   "outputs": [
    {
     "data": {
      "text/plain": [
       "array([1.        , 0.99941349, 1.00006855, 1.09188975, 1.10255716,\n",
       "       1.1501841 , 1.1616035 , 1.1506898 ])"
      ]
     },
     "execution_count": 111,
     "metadata": {},
     "output_type": "execute_result"
    }
   ],
   "source": [
    "p_1_300.to_numpy()/p_1_1000.to_numpy()"
   ]
  },
  {
   "cell_type": "code",
   "execution_count": 87,
   "id": "6bd49eb3",
   "metadata": {},
   "outputs": [
    {
     "data": {
      "image/png": "[encoded data removed]",
      "text/plain": [
       "<Figure size 540x360 with 1 Axes>"
      ]
     },
     "metadata": {
      "needs_background": "light"
     },
     "output_type": "display_data"
    }
   ],
   "source": [
    "x = np.linspace(1, 8, 1000)\n",
    "\n",
    "fig = plt.figure()\n",
    "fig.set_figwidth(7.5)\n",
    "fig.set_figheight(5)\n",
    "\n",
    "plt.plot(x, x, ':', label = 'Ideal Speedup', color = 'black')\n",
    "plt.plot(num_proc, p_1_300, label ='236,296 Simulated Points ', marker='x', color = 'black')\n",
    "plt.plot(num_proc, p_1_1000, '--',label ='18,850 Simulated Points', marker='o', color = 'black')\n",
    "\n",
    "\n",
    "plt.title(\"Scalability Testing\", fontweight=\"bold\")\n",
    "plt.xlabel(\"Number of Processors\", fontweight=\"bold\")\n",
    "plt.ylabel(\"Speedup\", fontweight=\"bold\")\n",
    "plt.legend()\n",
    "\n",
    "plt.savefig('Test/Fig2.png', bbox_inches = 'tight')"
   ]
  },
  {
   "cell_type": "code",
   "execution_count": null,
   "id": "4b39df00",
   "metadata": {},
   "outputs": [],
   "source": [
    "ws = pd.read_csv('Test/weak_scaling.csv')"
   ]
  },
  {
   "cell_type": "code",
   "execution_count": null,
   "id": "e9a81cd8",
   "metadata": {},
   "outputs": [
    {
     "data": {
      "text/html": [
       "<div>\n",
       "<style scoped>\n",
       "    .dataframe tbody tr th:only-of-type {\n",
       "        vertical-align: middle;\n",
       "    }\n",
       "\n",
       "    .dataframe tbody tr th {\n",
       "        vertical-align: top;\n",
       "    }\n",
       "\n",
       "    .dataframe thead th {\n",
       "        text-align: right;\n",
       "    }\n",
       "</style>\n",
       "<table border=\"1\" class=\"dataframe\">\n",
       "  <thead>\n",
       "    <tr style=\"text-align: right;\">\n",
       "      <th></th>\n",
       "      <th>proccesses</th>\n",
       "      <th>res</th>\n",
       "      <th>num missing pts</th>\n",
       "      <th>tot time</th>\n",
       "      <th>sgs time</th>\n",
       "    </tr>\n",
       "  </thead>\n",
       "  <tbody>\n",
       "  </tbody>\n",
       "</table>\n",
       "</div>"
      ],
      "text/plain": [
       "Empty DataFrame\n",
       "Columns: [proccesses, res, num missing pts, tot time, sgs time]\n",
       "Index: []"
      ]
     },
     "execution_count": 43,
     "metadata": {},
     "output_type": "execute_result"
    }
   ],
   "source": [
    "ws"
   ]
  },
  {
   "cell_type": "code",
   "execution_count": null,
   "id": "cc5b4472",
   "metadata": {},
   "outputs": [
    {
     "ename": "IndexError",
     "evalue": "index 0 is out of bounds for axis 0 with size 0",
     "output_type": "error",
     "traceback": [
      "\u001b[0;31m---------------------------------------------------------------------------\u001b[0m",
      "\u001b[0;31mIndexError\u001b[0m                                Traceback (most recent call last)",
      "Input \u001b[0;32mIn [44]\u001b[0m, in \u001b[0;36m<cell line: 1>\u001b[0;34m()\u001b[0m\n\u001b[0;32m----> 1\u001b[0m eff \u001b[38;5;241m=\u001b[39m \u001b[43mws\u001b[49m\u001b[43m[\u001b[49m\u001b[38;5;124;43m'\u001b[39;49m\u001b[38;5;124;43mtot time\u001b[39;49m\u001b[38;5;124;43m'\u001b[39;49m\u001b[43m]\u001b[49m\u001b[43m[\u001b[49m\u001b[38;5;241;43m0\u001b[39;49m\u001b[43m]\u001b[49m\u001b[38;5;241m/\u001b[39mws[\u001b[38;5;124m'\u001b[39m\u001b[38;5;124mtot time\u001b[39m\u001b[38;5;124m'\u001b[39m]\n",
      "File \u001b[0;32m~/opt/anaconda3/lib/python3.9/site-packages/pandas/core/series.py:955\u001b[0m, in \u001b[0;36mSeries.__getitem__\u001b[0;34m(self, key)\u001b[0m\n\u001b[1;32m    952\u001b[0m     key \u001b[38;5;241m=\u001b[39m unpack_1tuple(key)\n\u001b[1;32m    954\u001b[0m \u001b[38;5;28;01mif\u001b[39;00m is_integer(key) \u001b[38;5;129;01mand\u001b[39;00m \u001b[38;5;28mself\u001b[39m\u001b[38;5;241m.\u001b[39mindex\u001b[38;5;241m.\u001b[39m_should_fallback_to_positional:\n\u001b[0;32m--> 955\u001b[0m     \u001b[38;5;28;01mreturn\u001b[39;00m \u001b[38;5;28;43mself\u001b[39;49m\u001b[38;5;241;43m.\u001b[39;49m\u001b[43m_values\u001b[49m\u001b[43m[\u001b[49m\u001b[43mkey\u001b[49m\u001b[43m]\u001b[49m\n\u001b[1;32m    957\u001b[0m \u001b[38;5;28;01melif\u001b[39;00m key_is_scalar:\n\u001b[1;32m    958\u001b[0m     \u001b[38;5;28;01mreturn\u001b[39;00m \u001b[38;5;28mself\u001b[39m\u001b[38;5;241m.\u001b[39m_get_value(key)\n",
      "\u001b[0;31mIndexError\u001b[0m: index 0 is out of bounds for axis 0 with size 0"
     ]
    }
   ],
   "source": [
    "eff = ws['tot time'][0]/ws['tot time']"
   ]
  },
  {
   "cell_type": "code",
   "execution_count": null,
   "id": "36930190",
   "metadata": {},
   "outputs": [
    {
     "ename": "NameError",
     "evalue": "name 'eff' is not defined",
     "output_type": "error",
     "traceback": [
      "\u001b[0;31m---------------------------------------------------------------------------\u001b[0m",
      "\u001b[0;31mNameError\u001b[0m                                 Traceback (most recent call last)",
      "Input \u001b[0;32mIn [45]\u001b[0m, in \u001b[0;36m<cell line: 5>\u001b[0;34m()\u001b[0m\n\u001b[1;32m      2\u001b[0m fig\u001b[38;5;241m.\u001b[39mset_figwidth(\u001b[38;5;241m7.5\u001b[39m)\n\u001b[1;32m      3\u001b[0m fig\u001b[38;5;241m.\u001b[39mset_figheight(\u001b[38;5;241m5\u001b[39m)\n\u001b[0;32m----> 5\u001b[0m plt\u001b[38;5;241m.\u001b[39mplot(num_proc, \u001b[43meff\u001b[49m, label \u001b[38;5;241m=\u001b[39m\u001b[38;5;124m'\u001b[39m\u001b[38;5;124mReal Efficiency\u001b[39m\u001b[38;5;124m'\u001b[39m, marker\u001b[38;5;241m=\u001b[39m\u001b[38;5;124m'\u001b[39m\u001b[38;5;124mo\u001b[39m\u001b[38;5;124m'\u001b[39m, markerfacecolor\u001b[38;5;241m=\u001b[39m\u001b[38;5;124m'\u001b[39m\u001b[38;5;124mblack\u001b[39m\u001b[38;5;124m'\u001b[39m, color \u001b[38;5;241m=\u001b[39m \u001b[38;5;124m'\u001b[39m\u001b[38;5;124mblack\u001b[39m\u001b[38;5;124m'\u001b[39m)\n\u001b[1;32m      6\u001b[0m plt\u001b[38;5;241m.\u001b[39mplot(x, [\u001b[38;5;241m1\u001b[39m]\u001b[38;5;241m*\u001b[39m\u001b[38;5;241m1000\u001b[39m,\u001b[38;5;124m'\u001b[39m\u001b[38;5;124m--\u001b[39m\u001b[38;5;124m'\u001b[39m, label \u001b[38;5;241m=\u001b[39m\u001b[38;5;124m'\u001b[39m\u001b[38;5;124mIdeal Efficiency\u001b[39m\u001b[38;5;124m'\u001b[39m, markerfacecolor\u001b[38;5;241m=\u001b[39m\u001b[38;5;124m'\u001b[39m\u001b[38;5;124mblack\u001b[39m\u001b[38;5;124m'\u001b[39m, color \u001b[38;5;241m=\u001b[39m \u001b[38;5;124m'\u001b[39m\u001b[38;5;124mblack\u001b[39m\u001b[38;5;124m'\u001b[39m)\n\u001b[1;32m      8\u001b[0m plt\u001b[38;5;241m.\u001b[39mtitle(\u001b[38;5;124m\"\u001b[39m\u001b[38;5;124mFigure 3\u001b[39m\u001b[38;5;124m\"\u001b[39m)\n",
      "\u001b[0;31mNameError\u001b[0m: name 'eff' is not defined"
     ]
    },
    {
     "data": {
      "text/plain": [
       "<Figure size 540x360 with 0 Axes>"
      ]
     },
     "metadata": {},
     "output_type": "display_data"
    }
   ],
   "source": [
    "fig = plt.figure()\n",
    "fig.set_figwidth(7.5)\n",
    "fig.set_figheight(5)\n",
    "\n",
    "plt.plot(num_proc, eff, label ='Real Efficiency', marker='o', markerfacecolor='black', color = 'black')\n",
    "plt.plot(x, [1]*1000,'--', label ='Ideal Efficiency', markerfacecolor='black', color = 'black')\n",
    "\n",
    "plt.title(\"Figure 3\")\n",
    "plt.xlabel(\"Number of Processes\")\n",
    "plt.ylabel(\"Efficiency\")\n",
    "plt.legend()\n",
    "\n",
    "plt.show()"
   ]
  },
  {
   "cell_type": "code",
   "execution_count": null,
   "id": "1672b082",
   "metadata": {},
   "outputs": [],
   "source": [
    "gs = gridspec.GridSpec(1, 2)\n",
    "fig = plt.figure()\n",
    "fig.set_figwidth(15)\n",
    "fig.set_figheight(5)\n",
    "fig.suptitle('Figure 2')\n",
    "\n",
    "ax1 = plt.subplot(gs[0, 0])\n",
    "ax1.plot(num_proc, p_1_1000,'-.', label ='res = 1000', marker='o', markerfacecolor='black', color = 'black')\n",
    "ax1.plot(num_proc, p_1_300, label ='res = 300', marker='^', markerfacecolor='black', color = 'black')\n",
    "ax1.plot(x, x, '--', color = 'black')\n",
    "\n",
    "ax1.set_title(\"Strong Scaling\")\n",
    "ax1.set_xlabel(\"Number of Processes\")\n",
    "ax1.set_ylabel(\"Speed-up\")\n",
    "ax1.legend()\n",
    "\n",
    "ax2 = plt.subplot(gs[0, 1])\n",
    "ax2.plot(num_proc, eff, label ='Real Efficiency', marker='o', markerfacecolor='black', color = 'black')\n",
    "ax2.plot(x, [1]*1000,'--', label ='Ideal Efficiency', markerfacecolor='black', color = 'black')\n",
    "\n",
    "ax2.set_title(\"Weak Scaling\")\n",
    "ax2.set_xlabel(\"Number of Processes\")\n",
    "ax2.set_ylabel(\"Efficiency\")\n",
    "ax2.legend()\n",
    "plt.plot()"
   ]
  },
  {
   "cell_type": "code",
   "execution_count": null,
   "id": "547631c5-4a51-4eed-81e1-efc77c2f6e04",
   "metadata": {},
   "outputs": [],
   "source": [
    "gs = gridspec.GridSpec(1, 2)\n",
    "fig = plt.figure()\n",
    "fig.set_figwidth(15)\n",
    "fig.set_figheight(5)\n",
    "fig.suptitle('Figure 1')\n",
    "\n",
    "\n",
    "ax1 = plt.subplot(gs[0, 0])\n",
    "ax1.plot(num_pts, res_s_t, label ='Serial', marker='o', markerfacecolor='black', color = 'black')\n",
    "ax1.plot(num_pts, res_p_t, '-.', label ='Parallel', marker='^', markerfacecolor='black', color = 'black')\n",
    "\n",
    "ax1.set_xlabel(\"Number of Simulated Points\")\n",
    "ax1.set_ylabel(\"SGS Run Time (s)\")\n",
    "ax1.set_title(\"Run Time vs Job Size\")\n",
    "ax1.legend()\n",
    "\n",
    "\n",
    "ax2 = plt.subplot(gs[0, 1])\n",
    "ax2.plot(num_pts, speedup, label ='Serial', marker='^', markerfacecolor='black', color = 'black')\n",
    "\n",
    "ax2.set_xlabel(\"Number of Simulated Points\")\n",
    "ax2.set_ylabel(\"$T_{Serial} \\, /  \\, T_{Parllel}$\")\n",
    "ax2.set_title(\"Speed-up\")\n",
    "plt.savefig('Test/fig1.png')"
   ]
  }
 ],
 "metadata": {
  "kernelspec": {
   "display_name": "Python 3 (ipykernel)",
   "language": "python",
   "name": "python3"
  },
  "language_info": {
   "codemirror_mode": {
    "name": "ipython",
    "version": 3
   },
   "file_extension": ".py",
   "mimetype": "text/x-python",
   "name": "python",
   "nbconvert_exporter": "python",
   "pygments_lexer": "ipython3",
   "version": "3.9.12"
  },
  "vscode": {
   "interpreter": {
    "hash": "456d95f927dc7a40f97a32f756c2d323d1889ec931deba9c5a64c1830bbd242d"
   }
  }
 },
 "nbformat": 4,
 "nbformat_minor": 5
}
