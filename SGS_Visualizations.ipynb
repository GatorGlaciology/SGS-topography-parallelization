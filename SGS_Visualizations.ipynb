{
 "cells": [
  {
   "cell_type": "code",
   "execution_count": 1,
   "id": "965c0864",
   "metadata": {
    "scrolled": true
   },
   "outputs": [],
   "source": [
    "import numpy as np\n",
    "import pandas as pd\n",
    "import pyvista as pv\n",
    "import matplotlib.pyplot as plt\n",
    "from matplotlib.colors import ListedColormap\n",
    "pv.set_jupyter_backend('ipyvtklink')"
   ]
  },
  {
   "cell_type": "code",
   "execution_count": 2,
   "id": "b8d2bee4",
   "metadata": {},
   "outputs": [],
   "source": [
    "cmap = plt.cm.get_cmap(\"viridis\")\n",
    "pv.global_theme.background = 'white'\n",
    "pv.global_theme.font.color = 'black'"
   ]
  },
  {
   "cell_type": "code",
   "execution_count": 3,
   "id": "7bf66231",
   "metadata": {},
   "outputs": [],
   "source": [
    "#greenland data\n",
    "sim_1 = pd.read_csv(\"Output/sim_1.csv\")\n",
    "sim_2 = pd.read_csv(\"Output/sim_3.csv\")\n",
    "bm = pd.read_csv(\"Output/BM_greenland_sim.csv\")\n",
    "flight_data = pd.read_csv(\"Data/test_data.csv\")\n",
    "\n",
    "#antarctica data\n",
    "sim_1_pig = pd.read_csv(\"Output/sim_1_PIG.csv\")\n",
    "sim_2_pig = pd.read_csv(\"Output/sim_3_PIG.csv\")\n",
    "bm_pig = pd.read_csv(\"Output/BM_antarctica_sim.csv\")\n",
    "flight_data_pig = pd.read_csv(\"Data/PIG_data.csv\")\n"
   ]
  },
  {
   "cell_type": "code",
   "execution_count": 4,
   "id": "486cccf7",
   "metadata": {},
   "outputs": [],
   "source": [
    "def make_mesh(data, x, y, bed, mesh = True):\n",
    "    '''\n",
    "    Makes a pyvista Polydata mesh/plot from given dataset\n",
    "    \n",
    "    INPUT\n",
    "    data = Pandas Dataframe\n",
    "    x = column name for x values\n",
    "    y = column name for y values\n",
    "    bed = column name for elevation\n",
    "    mesh = delaunay triangulation to create mesh if true, regular plot if false\n",
    "    \n",
    "    OUTPUT\n",
    "    mesh = resulting mesh/plot\n",
    "    datrange = min and max values from the data. Useful for clim standardization when plotting.\n",
    "    '''\n",
    "    plot = pv.PolyData(data[[x,y,bed]].to_numpy())  # Converts to Polydata\n",
    "    plot.point_data[\"Elevation\"] = data[bed]        # Creates scalar for elevation--colormap support\n",
    "    if (mesh):\n",
    "        mesh = plot.delaunay_2d()                   # Used delaunay triangulation to make mesh. \n",
    "                                                    # Not recommended for sparse data (conditioning)\n",
    "    else:\n",
    "        mesh = plot\n",
    "        \n",
    "    datrange = (data[bed].min(), data[bed].max())\n",
    "    return mesh, datrange"
   ]
  },
  {
   "cell_type": "code",
   "execution_count": 5,
   "id": "282a5ef4",
   "metadata": {
    "scrolled": true
   },
   "outputs": [],
   "source": [
    "#Greenland data params\n",
    "mesh_flight, clim = make_mesh(flight_data,\"X\",\"Y\",\"Bed\", mesh = False)\n",
    "mesh_1, clim_1 = make_mesh(sim_1,\"X\",\"Y\",\"Bed\")\n",
    "mesh_2, clim_2 = make_mesh(sim_2,\"X\",\"Y\",\"Bed\")\n",
    "mesh_bm, clim_bm = make_mesh(bm,\"x\",\"y\",\"bed\")\n",
    "\n",
    "#Antarctica data params\n",
    "mesh_flight_pig, clim_pig = make_mesh(flight_data_pig,\"x\",\"y\",\"bedrock_altitude (m)\", mesh = False)\n",
    "mesh_1_pig, clim_1 = make_mesh(sim_1_pig,\"x\",\"y\",\"bedrock_altitude (m)\")\n",
    "mesh_2_pig, clim_2 = make_mesh(sim_2_pig,\"x\",\"y\",\"bedrock_altitude (m)\")\n",
    "mesh_bm_pig, clim_bm = make_mesh(bm_pig,\"x\",\"y\",\"bed\")"
   ]
  },
  {
   "cell_type": "code",
   "execution_count": 6,
   "id": "b83293ed",
   "metadata": {},
   "outputs": [],
   "source": [
    "#creating arrows to indicate flow for the greenland/antarctica data\n",
    "arrow_test = pv.Arrow(start = (-200000,-1720000,10000),\n",
    "                 direction = (-1, 0,0),\n",
    "                 scale = 50000)\n",
    "\n",
    "arrow_pig = pv.Arrow(start = (-1570000,-140000,500),\n",
    "                 direction = (0,-1,0),\n",
    "                 scale = 50000)"
   ]
  },
  {
   "cell_type": "code",
   "execution_count": 7,
   "id": "369c9546",
   "metadata": {
    "scrolled": false
   },
   "outputs": [],
   "source": [
    "def pvplot(mesh, clim, title, bounds, add_arrow = False, arrow = 0, ):\n",
    "    '''\n",
    "    Creates plotter object based on given mesh.\n",
    "    \n",
    "    INPUT\n",
    "    mesh = PolyData mesh/plot\n",
    "    clim = tuple containing two values, limits the range of the constructed colorbar\n",
    "    title = Title of plot. Will appear in top left\n",
    "    add_arrow = If true, will plot 'arrow'\n",
    "    arrow = Arrow mesh created separately\n",
    "    \n",
    "    OUTPUT\n",
    "    plotter = plotter object\n",
    "    '''\n",
    "    plotter = pv.Plotter(off_screen =True)\n",
    "\n",
    "    sargs = dict(\n",
    "        title = \"Elevation (m)\",\n",
    "        vertical = False, \n",
    "        position_x = 0.4, \n",
    "        position_y = 0.9,\n",
    "        n_labels = 4\n",
    "    )\n",
    "    plotter.add_text(title)\n",
    "    plotter.add_mesh(mesh, cmap=cmap, scalar_bar_args = sargs, clim = clim)\n",
    "    plotter.show_bounds(show_zlabels=False,\n",
    "                        show_zaxis=False,\n",
    "                        xlabel=\"X (km)\",\n",
    "                        ylabel = \"Y (km)\", \n",
    "                        location = \"outer\", \n",
    "                        font_size = 30,\n",
    "                        axes_ranges = bounds\n",
    "                       )\n",
    "    \n",
    "    if(add_arrow):\n",
    "        plotter.add_mesh(arrow,color='red',lighting=True)\n",
    "\n",
    "    plotter.camera_position = \"xz\"\n",
    "    plotter.camera.azimuth = 45\n",
    "    plotter.camera.elevation = 25\n",
    "    plotter.camera.zoom(1.3)\n",
    "    \n",
    "    return plotter"
   ]
  },
  {
   "cell_type": "code",
   "execution_count": 8,
   "id": "c0b5043e",
   "metadata": {},
   "outputs": [],
   "source": [
    "bound_gn = [-300,-150,-1800,-1650,0,0]\n",
    "bound_pig = [-1620,-1520,-250, -110, 0, 0]\n",
    "clim = (-600,600)\n",
    "clim_pig = (-1700, 400)"
   ]
  },
  {
   "cell_type": "code",
   "execution_count": 9,
   "id": "2f697b27",
   "metadata": {
    "scrolled": false
   },
   "outputs": [
    {
     "data": {
      "application/vnd.jupyter.widget-view+json": {
       "model_id": "c44fe8ae1e854ea3929471b10b6f181b",
       "version_major": 2,
       "version_minor": 0
      },
      "text/plain": [
       "ViewInteractiveWidget(height=768, layout=Layout(height='auto', width='100%'), width=1024)"
      ]
     },
     "metadata": {},
     "output_type": "display_data"
    }
   ],
   "source": [
    "gn_flight = pvplot(mesh_flight, clim, \"Conditioning Data\", bound_gn, add_arrow = True, arrow = arrow_test)\n",
    "gn_flight.show()"
   ]
  },
  {
   "cell_type": "code",
   "execution_count": 10,
   "id": "590cd176",
   "metadata": {
    "scrolled": false
   },
   "outputs": [
    {
     "data": {
      "application/vnd.jupyter.widget-view+json": {
       "model_id": "dc23736184504b5ea61e4ae56c68faee",
       "version_major": 2,
       "version_minor": 0
      },
      "text/plain": [
       "ViewInteractiveWidget(height=768, layout=Layout(height='auto', width='100%'), width=1024)"
      ]
     },
     "metadata": {},
     "output_type": "display_data"
    }
   ],
   "source": [
    "gn_1 = pvplot(mesh_1, clim, \"SGS 1\", bounds = [-300,-150,-1800,-1600,0,0], add_arrow = True, arrow = arrow_test)\n",
    "gn_1.show()"
   ]
  },
  {
   "cell_type": "code",
   "execution_count": 11,
   "id": "5cfa11be",
   "metadata": {},
   "outputs": [
    {
     "data": {
      "application/vnd.jupyter.widget-view+json": {
       "model_id": "428aba2b7da84f9ea2f2299c8ce9bfd5",
       "version_major": 2,
       "version_minor": 0
      },
      "text/plain": [
       "ViewInteractiveWidget(height=768, layout=Layout(height='auto', width='100%'), width=1024)"
      ]
     },
     "metadata": {},
     "output_type": "display_data"
    }
   ],
   "source": [
    "gn_2 = pvplot(mesh_2, clim, \"SGS 2\",bounds = [-300,-150,-1800,-1600,0,0], add_arrow = True, arrow = arrow_test)\n",
    "gn_2.show()"
   ]
  },
  {
   "cell_type": "code",
   "execution_count": 12,
   "id": "3d536a6d",
   "metadata": {},
   "outputs": [
    {
     "data": {
      "application/vnd.jupyter.widget-view+json": {
       "model_id": "0cc941ae9cca47bd943494b0f01f1970",
       "version_major": 2,
       "version_minor": 0
      },
      "text/plain": [
       "ViewInteractiveWidget(height=768, layout=Layout(height='auto', width='100%'), width=1024)"
      ]
     },
     "metadata": {},
     "output_type": "display_data"
    }
   ],
   "source": [
    "gn_bm = pvplot(mesh_bm, clim, \"Bedmachine\",bounds = [-300,-150,-1800,-1600,0,0], add_arrow = True, arrow = arrow_test)\n",
    "gn_bm.show()"
   ]
  },
  {
   "cell_type": "code",
   "execution_count": 19,
   "id": "283b5647",
   "metadata": {},
   "outputs": [],
   "source": [
    "#write to pdf. Change path and file format as needed\n",
    "gn_flight.save_graphic(\"Output/graphic/Final/gn_flight.pdf\")\n",
    "gn_1.save_graphic(\"Output/graphic/Final/gn_sim_1.pdf\")\n",
    "gn_2.save_graphic(\"Output/graphic/Final/gn_sim_2.pdf\")\n",
    "gn_bm.save_graphic(\"Output/graphic/Final/gn_sim_bm.pdf\")"
   ]
  },
  {
   "cell_type": "code",
   "execution_count": 14,
   "id": "772b11d4",
   "metadata": {
    "scrolled": false
   },
   "outputs": [
    {
     "data": {
      "application/vnd.jupyter.widget-view+json": {
       "model_id": "d5cb4b551f6f462d90c3de5a181cf80e",
       "version_major": 2,
       "version_minor": 0
      },
      "text/plain": [
       "ViewInteractiveWidget(height=768, layout=Layout(height='auto', width='100%'), width=1024)"
      ]
     },
     "metadata": {},
     "output_type": "display_data"
    }
   ],
   "source": [
    "pig_flight = pvplot(mesh_flight_pig, clim_pig, \"Conditioning Data\", bound_pig, add_arrow = True, arrow = arrow_pig)\n",
    "pig_flight.show()"
   ]
  },
  {
   "cell_type": "code",
   "execution_count": 15,
   "id": "ee0258b2",
   "metadata": {},
   "outputs": [
    {
     "data": {
      "application/vnd.jupyter.widget-view+json": {
       "model_id": "879bb38d9ed340089d75adb2007af048",
       "version_major": 2,
       "version_minor": 0
      },
      "text/plain": [
       "ViewInteractiveWidget(height=768, layout=Layout(height='auto', width='100%'), width=1024)"
      ]
     },
     "metadata": {},
     "output_type": "display_data"
    }
   ],
   "source": [
    "pig_1 = pvplot(mesh_1_pig, clim_pig, \"SGS 1\", bound_pig, add_arrow = True, arrow = arrow_pig)\n",
    "pig_1.show()"
   ]
  },
  {
   "cell_type": "code",
   "execution_count": 16,
   "id": "5b36612f",
   "metadata": {},
   "outputs": [
    {
     "data": {
      "application/vnd.jupyter.widget-view+json": {
       "model_id": "3fb7b4443d6b437b9545839c1f48ff39",
       "version_major": 2,
       "version_minor": 0
      },
      "text/plain": [
       "ViewInteractiveWidget(height=768, layout=Layout(height='auto', width='100%'), width=1024)"
      ]
     },
     "metadata": {},
     "output_type": "display_data"
    }
   ],
   "source": [
    "pig_2 = pvplot(mesh_2_pig, clim_pig, \"SGS 2\", bound_pig, add_arrow = True, arrow = arrow_pig)\n",
    "pig_2.show()"
   ]
  },
  {
   "cell_type": "code",
   "execution_count": 17,
   "id": "8f4c6c29",
   "metadata": {},
   "outputs": [
    {
     "data": {
      "application/vnd.jupyter.widget-view+json": {
       "model_id": "b38d00e717944d5995b6c32fb0a21530",
       "version_major": 2,
       "version_minor": 0
      },
      "text/plain": [
       "ViewInteractiveWidget(height=768, layout=Layout(height='auto', width='100%'), width=1024)"
      ]
     },
     "metadata": {},
     "output_type": "display_data"
    }
   ],
   "source": [
    "pig_bm = pvplot(mesh_bm_pig, clim_pig, \"Bedmachine\", bound_pig, add_arrow = True, arrow = arrow_pig)\n",
    "pig_bm.show()"
   ]
  },
  {
   "cell_type": "code",
   "execution_count": 18,
   "id": "c586601b",
   "metadata": {},
   "outputs": [],
   "source": [
    "#write to pdf. Change path and file format as needed\n",
    "pig_flight.save_graphic(\"Output/graphic/Final/pig_flight.pdf\")\n",
    "pig_1.save_graphic(\"Output/graphic/Final/pig_sim_1.pdf\")\n",
    "pig_2.save_graphic(\"Output/graphic/Final/pig_sim_2.pdf\")\n",
    "pig_bm.save_graphic(\"Output/graphic/Final/pig_sim_bm.pdf\")"
   ]
  },
  {
   "cell_type": "code",
   "execution_count": null,
   "id": "310709f3",
   "metadata": {},
   "outputs": [],
   "source": []
  }
 ],
 "metadata": {
  "kernelspec": {
   "display_name": "Python 3 (ipykernel)",
   "language": "python",
   "name": "python3"
  },
  "language_info": {
   "codemirror_mode": {
    "name": "ipython",
    "version": 3
   },
   "file_extension": ".py",
   "mimetype": "text/x-python",
   "name": "python",
   "nbconvert_exporter": "python",
   "pygments_lexer": "ipython3",
   "version": "3.9.7"
  }
 },
 "nbformat": 4,
 "nbformat_minor": 5
}
